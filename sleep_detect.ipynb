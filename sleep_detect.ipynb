{
  "cells": [
    {
      "cell_type": "code",
      "execution_count": null,
      "metadata": {
        "id": "hP9MKHD7iE99"
      },
      "outputs": [],
      "source": [
        "import tensorflow as tf\n",
        "import cv2\n",
        "import os\n",
        "import matplotlib.pyplot as plt\n",
        "import numpy as np\n",
        "import zipfile"
      ]
    },
    {
      "cell_type": "code",
      "execution_count": null,
      "metadata": {
        "id": "C4Yxm9ZEx3Xc"
      },
      "outputs": [],
      "source": [
        "# zip_ref = zipfile.ZipFile(\"/content/drive/MyDrive/Dataset/mrl_eye/mrl_eye.zip\", 'r')\n",
        "# zip_ref.extractall(\"/content/drive/MyDrive/Dataset/mrl_eye/\")\n",
        "# zip_ref.close()"
      ]
    },
    {
      "cell_type": "code",
      "execution_count": null,
      "metadata": {
        "id": "GXjSTCUoIfuJ"
      },
      "outputs": [],
      "source": [
        "data_dir = '/content/drive/MyDrive/Dataset/mrl_eye'\n",
        "import pathlib\n",
        "data_dir = pathlib.Path(data_dir)"
      ]
    },
    {
      "cell_type": "code",
      "execution_count": null,
      "metadata": {
        "colab": {
          "base_uri": "https://localhost:8080/"
        },
        "id": "XQEvi6UPodco",
        "outputId": "4d325017-38a1-4ab7-d661-20c216d035c8"
      },
      "outputs": [
        {
          "data": {
            "text/plain": [
              "PosixPath('/content/drive/MyDrive/Dataset/mrl_eye')"
            ]
          },
          "execution_count": 4,
          "metadata": {},
          "output_type": "execute_result"
        }
      ],
      "source": [
        "data_dir"
      ]
    },
    {
      "cell_type": "code",
      "execution_count": null,
      "metadata": {
        "colab": {
          "background_save": true,
          "base_uri": "https://localhost:8080/"
        },
        "id": "zcGFRm_INSV7",
        "outputId": "f954e96f-fc39-43be-9c2d-b4f7f6d59686"
      },
      "outputs": [
        {
          "data": {
            "text/plain": [
              "48000"
            ]
          },
          "execution_count": null,
          "metadata": {},
          "output_type": "execute_result"
        }
      ],
      "source": [
        "image_count = len(list(data_dir.glob('*/*.png')))\n",
        "image_count"
      ]
    },
    {
      "cell_type": "code",
      "execution_count": null,
      "metadata": {
        "colab": {
          "background_save": true,
          "base_uri": "https://localhost:8080/"
        },
        "id": "Q_2nWvvwjyfu",
        "outputId": "51109bcf-abb0-49bf-b3ec-35f10d927572"
      },
      "outputs": [
        {
          "data": {
            "text/plain": [
              "[PosixPath('/content/drive/MyDrive/Dataset/mrl_eye/open_eye/s0029_00394_0_0_1_0_1_01.png'),\n",
              " PosixPath('/content/drive/MyDrive/Dataset/mrl_eye/open_eye/s0029_00395_0_0_1_0_1_01.png'),\n",
              " PosixPath('/content/drive/MyDrive/Dataset/mrl_eye/open_eye/s0029_00396_0_0_1_0_1_01.png'),\n",
              " PosixPath('/content/drive/MyDrive/Dataset/mrl_eye/open_eye/s0029_00397_0_0_1_0_1_01.png'),\n",
              " PosixPath('/content/drive/MyDrive/Dataset/mrl_eye/open_eye/s0029_00398_0_0_1_0_1_01.png')]"
            ]
          },
          "execution_count": null,
          "metadata": {},
          "output_type": "execute_result"
        }
      ],
      "source": [
        "open = list(data_dir.glob('open_eye/*'))\n",
        "open[:5]"
      ]
    },
    {
      "cell_type": "code",
      "execution_count": null,
      "metadata": {
        "colab": {
          "background_save": true,
          "base_uri": "https://localhost:8080/",
          "height": 91
        },
        "id": "BWrHLvkCpKOk",
        "outputId": "08d3dc33-1c0f-4c93-f03c-44492563807d"
      },
      "outputs": [
        {
          "data": {
            "image/png": "[encoded data removed]",
            "text/plain": [
              "<PIL.PngImagePlugin.PngImageFile image mode=L size=74x74 at 0x7FACE82A52D0>"
            ]
          },
          "execution_count": null,
          "metadata": {},
          "output_type": "execute_result"
        }
      ],
      "source": [
        "import PIL\n",
        "PIL.Image.open(open[5])"
      ]
    },
    {
      "cell_type": "code",
      "execution_count": null,
      "metadata": {
        "colab": {
          "background_save": true,
          "base_uri": "https://localhost:8080/"
        },
        "id": "R0GnIOC7pO2r",
        "outputId": "71de974d-1364-450e-88f5-e9d81754c4e5"
      },
      "outputs": [
        {
          "data": {
            "text/plain": [
              "200"
            ]
          },
          "execution_count": null,
          "metadata": {},
          "output_type": "execute_result"
        }
      ],
      "source": [
        "eyes = {\n",
        "    'open': list(data_dir.glob('open_eye/*'))[:200],\n",
        "    'closed' : list(data_dir.glob('closed_eye/*'))[:200]\n",
        "}\n",
        "len(eyes['closed'])"
      ]
    },
    {
      "cell_type": "code",
      "execution_count": null,
      "metadata": {
        "colab": {
          "background_save": true
        },
        "id": "Xmmey4trp5O2"
      },
      "outputs": [],
      "source": [
        "labels = {\n",
        "    'open' : 1,\n",
        "    'closed' : 0\n",
        "}"
      ]
    },
    {
      "cell_type": "code",
      "execution_count": null,
      "metadata": {
        "colab": {
          "background_save": true,
          "base_uri": "https://localhost:8080/"
        },
        "id": "IV8-j174qEpc",
        "outputId": "e3922ae9-25f0-4a17-ba8a-a64ef8c040f0"
      },
      "outputs": [
        {
          "data": {
            "text/plain": [
              "(72, 72, 3)"
            ]
          },
          "execution_count": null,
          "metadata": {},
          "output_type": "execute_result"
        }
      ],
      "source": [
        "img = cv2.imread(str(eyes['open'][9]))\n",
        "img.shape"
      ]
    },
    {
      "cell_type": "code",
      "execution_count": null,
      "metadata": {
        "id": "aC5ICItmsYna"
      },
      "outputs": [],
      "source": [
        "X, y = [], []\n",
        "\n",
        "for eye_state, images in eyes.items():\n",
        "  for image in images:\n",
        "    img = cv2.imread(str(image))\n",
        "    resized_image = cv2.resize(img, (224,224))\n",
        "    X.append(resized_image)\n",
        "    y.append(labels[eye_state])"
      ]
    },
    {
      "cell_type": "code",
      "execution_count": null,
      "metadata": {
        "id": "noMYhpPrx_Mb"
      },
      "outputs": [],
      "source": [
        "# import pickle\n",
        "# pickle_out = open(\"/content/drive/MyDrive/Dataset/mrl_eye/X.pickle\", \"wb\")\n",
        "# pickle.dump(X, pickle_out)\n",
        "# pickle_out.close()\n",
        "\n",
        "# pickle_out = open(\"/content/drive/MyDrive/Dataset/mrl_eye/y.pickle\", \"wb\")\n",
        "# pickle.dump(y, pickle_out)\n",
        "# pickle_out.close()"
      ]
    },
    {
      "cell_type": "code",
      "execution_count": null,
      "metadata": {
        "id": "3U0qxXKUym7q"
      },
      "outputs": [],
      "source": [
        "# pickle_in = open(\"/content/drive/MyDrive/Dataset/mrl_eye/X.pickle\", \"rb\")\n",
        "# X = pickle.load(X, pickle_in)\n",
        "\n",
        "# pickle_in = open(\"/content/drive/MyDrive/Dataset/mrl_eye/y.pickle\", \"rb\")\n",
        "# y = pickle.load(y, pickle_in)"
      ]
    },
    {
      "cell_type": "code",
      "execution_count": null,
      "metadata": {
        "colab": {
          "base_uri": "https://localhost:8080/"
        },
        "id": "2KtoZHFDwnwN",
        "outputId": "9c3ba075-7358-448b-a28b-b5796fb77236"
      },
      "outputs": [
        {
          "output_type": "execute_result",
          "data": {
            "text/plain": [
              "(224, 224, 3)"
            ]
          },
          "metadata": {},
          "execution_count": 51
        }
      ],
      "source": [
        "X[0].shape"
      ]
    },
    {
      "cell_type": "code",
      "execution_count": null,
      "metadata": {
        "colab": {
          "base_uri": "https://localhost:8080/"
        },
        "id": "EfR80Ngkwu9H",
        "outputId": "0b8c4381-e53a-4bd4-9098-d7b1a6869be0"
      },
      "outputs": [
        {
          "output_type": "execute_result",
          "data": {
            "text/plain": [
              "[1, 1, 1, 1, 1]"
            ]
          },
          "metadata": {},
          "execution_count": 52
        }
      ],
      "source": [
        "y[:5]"
      ]
    },
    {
      "cell_type": "code",
      "execution_count": null,
      "metadata": {
        "id": "gvZOLYK4wiHz"
      },
      "outputs": [],
      "source": [
        "X = np.array(X)\n",
        "y = np.array(y)"
      ]
    },
    {
      "cell_type": "code",
      "execution_count": null,
      "metadata": {
        "id": "uCFnpCb2wknY"
      },
      "outputs": [],
      "source": [
        "from sklearn.model_selection import train_test_split\n",
        "X_train, X_test, y_train, y_test = train_test_split(X, y, random_state = 0)"
      ]
    },
    {
      "cell_type": "code",
      "execution_count": null,
      "metadata": {
        "id": "zD7tjRPqxhqO"
      },
      "outputs": [],
      "source": [
        "X_train_scaled = X_train/255\n",
        "X_test_scaled = X_test/255"
      ]
    },
    {
      "cell_type": "code",
      "execution_count": null,
      "metadata": {
        "id": "BnWJQiIFxB9_"
      },
      "outputs": [],
      "source": [
        "from tensorflow import keras\n",
        "from tensorflow.keras import layers\n",
        "from tensorflow.keras.models import Sequential"
      ]
    },
    {
      "cell_type": "code",
      "execution_count": null,
      "metadata": {
        "id": "U5vMEpMjw2Xs",
        "colab": {
          "base_uri": "https://localhost:8080/"
        },
        "outputId": "5200bcb0-3335-4b66-a04f-6591eb18d4b2"
      },
      "outputs": [
        {
          "output_type": "stream",
          "name": "stdout",
          "text": [
            "Epoch 1/5\n",
            "9/9 [==============================] - 12s 139ms/step - loss: 0.7394 - accuracy: 0.5444 - val_loss: 0.7017 - val_accuracy: 0.4667\n",
            "Epoch 2/5\n",
            "9/9 [==============================] - 0s 53ms/step - loss: 0.6877 - accuracy: 0.5630 - val_loss: 0.6736 - val_accuracy: 0.9000\n",
            "Epoch 3/5\n",
            "9/9 [==============================] - 0s 52ms/step - loss: 0.6685 - accuracy: 0.6852 - val_loss: 0.6443 - val_accuracy: 0.7333\n",
            "Epoch 4/5\n",
            "9/9 [==============================] - 0s 51ms/step - loss: 0.6150 - accuracy: 0.7815 - val_loss: 0.5772 - val_accuracy: 0.5333\n",
            "Epoch 5/5\n",
            "9/9 [==============================] - 0s 51ms/step - loss: 0.4787 - accuracy: 0.8074 - val_loss: 0.3200 - val_accuracy: 0.9333\n"
          ]
        },
        {
          "output_type": "execute_result",
          "data": {
            "text/plain": [
              "<keras.callbacks.History at 0x7facdb7159d0>"
            ]
          },
          "metadata": {},
          "execution_count": 57
        }
      ],
      "source": [
        "num_classes = 2\n",
        "model = Sequential([\n",
        "                    # 16 filters and size is 3x3\n",
        "                    layers.Conv2D(16, 3, padding = 'same', activation = 'relu'),\n",
        "                    layers.MaxPooling2D(),\n",
        "                    layers.Conv2D(16, 3, padding = 'same', activation = 'relu'),\n",
        "                    layers.MaxPooling2D(),\n",
        "                    layers.Conv2D(16, 3, padding = 'same', activation = 'relu'),\n",
        "                    layers.MaxPooling2D(),\n",
        "                    layers.Flatten(),\n",
        "                    layers.Dense(128, activation = 'relu'),\n",
        "                    layers.Dense(128, activation = 'relu'),\n",
        "                    layers.Dense(num_classes)\n",
        "])\n",
        "model.compile(optimizer = 'adam',\n",
        "              loss = tf.keras.losses.SparseCategoricalCrossentropy(from_logits = True),\n",
        "              metrics = ['accuracy'])\n",
        "\n",
        "model.fit(X_train_scaled, y_train, epochs = 5, validation_split = 0.1)"
      ]
    },
    {
      "cell_type": "code",
      "execution_count": null,
      "metadata": {
        "id": "XmjM1nUe0CsE",
        "colab": {
          "base_uri": "https://localhost:8080/"
        },
        "outputId": "7ddd73f4-c41a-43ae-a86d-ef0b8b90bca2"
      },
      "outputs": [
        {
          "output_type": "stream",
          "name": "stdout",
          "text": [
            "4/4 [==============================] - 0s 60ms/step - loss: 0.2851 - accuracy: 0.9700\n"
          ]
        },
        {
          "output_type": "execute_result",
          "data": {
            "text/plain": [
              "[0.28512895107269287, 0.9700000286102295]"
            ]
          },
          "metadata": {},
          "execution_count": 58
        }
      ],
      "source": [
        "model.evaluate(X_test_scaled, y_test)"
      ]
    },
    {
      "cell_type": "code",
      "execution_count": null,
      "metadata": {
        "id": "KOCvORuq1J7T",
        "colab": {
          "base_uri": "https://localhost:8080/"
        },
        "outputId": "e504457c-57ff-466e-b0e2-e88b9365bf81"
      },
      "outputs": [
        {
          "output_type": "execute_result",
          "data": {
            "text/plain": [
              "1"
            ]
          },
          "metadata": {},
          "execution_count": 59
        }
      ],
      "source": [
        "predictions = model.predict(X_test_scaled)[0:10]\n",
        "score = tf.nn.softmax(predictions[6])\n",
        "np.argmax(score)"
      ]
    },
    {
      "cell_type": "code",
      "execution_count": null,
      "metadata": {
        "id": "yUhgphc92ULs",
        "colab": {
          "base_uri": "https://localhost:8080/",
          "height": 287
        },
        "outputId": "4981a989-39a4-44fd-ece8-aae158034ec4"
      },
      "outputs": [
        {
          "output_type": "execute_result",
          "data": {
            "text/plain": [
              "<matplotlib.image.AxesImage at 0x7facdb03b2d0>"
            ]
          },
          "metadata": {},
          "execution_count": 60
        },
        {
          "output_type": "display_data",
          "data": {
            "text/plain": [
              "<Figure size 432x288 with 1 Axes>"
            ],
            "image/png": "[encoded data removed]"
          },
          "metadata": {
            "needs_background": "light"
          }
        }
      ],
      "source": [
        "plt.imshow(X_test[6])"
      ]
    },
    {
      "cell_type": "code",
      "execution_count": null,
      "metadata": {
        "id": "UM72cfL150v0"
      },
      "outputs": [],
      "source": [
        "import tensorflow_hub as hub"
      ]
    },
    {
      "cell_type": "code",
      "execution_count": null,
      "metadata": {
        "id": "IZc6NM6P5uss"
      },
      "outputs": [],
      "source": [
        "# This gives the same model except the last layer\n",
        "feature_extractor_model = \"https://tfhub.dev/google/tf2-preview/mobilenet_v2/feature_vector/4\"\n",
        "\n",
        "pretrianed_model_without_toplayer = hub.KerasLayer(\n",
        "    feature_extractor_model, input_shape = (224,224,3), trainable = False\n",
        ")"
      ]
    },
    {
      "cell_type": "code",
      "execution_count": null,
      "metadata": {
        "id": "dJR3TJzl547z",
        "colab": {
          "base_uri": "https://localhost:8080/"
        },
        "outputId": "8d58dd9e-cec7-42fe-d335-89c928d2531b"
      },
      "outputs": [
        {
          "output_type": "stream",
          "name": "stdout",
          "text": [
            "Model: \"sequential_1\"\n",
            "_________________________________________________________________\n",
            " Layer (type)                Output Shape              Param #   \n",
            "=================================================================\n",
            " keras_layer (KerasLayer)    (None, 1280)              2257984   \n",
            "                                                                 \n",
            " dense_3 (Dense)             (None, 2)                 2562      \n",
            "                                                                 \n",
            "=================================================================\n",
            "Total params: 2,260,546\n",
            "Trainable params: 2,562\n",
            "Non-trainable params: 2,257,984\n",
            "_________________________________________________________________\n"
          ]
        }
      ],
      "source": [
        "eye_state = 2\n",
        "model = tf.keras.Sequential([\n",
        "                             pretrianed_model_without_toplayer,\n",
        "                             tf.keras.layers.Dense(eye_state)\n",
        "])\n",
        "model.summary()"
      ]
    },
    {
      "cell_type": "code",
      "execution_count": null,
      "metadata": {
        "id": "KB6mjdCh6EGP",
        "colab": {
          "base_uri": "https://localhost:8080/"
        },
        "outputId": "9f8e899e-089b-41dd-a54f-08e488f44d82"
      },
      "outputs": [
        {
          "output_type": "stream",
          "name": "stdout",
          "text": [
            "Epoch 1/10\n",
            "9/9 [==============================] - 7s 282ms/step - loss: 0.3592 - accuracy: 0.8519 - val_loss: 0.1344 - val_accuracy: 1.0000\n",
            "Epoch 2/10\n",
            "9/9 [==============================] - 1s 96ms/step - loss: 0.0593 - accuracy: 1.0000 - val_loss: 0.0410 - val_accuracy: 1.0000\n",
            "Epoch 3/10\n",
            "9/9 [==============================] - 1s 89ms/step - loss: 0.0204 - accuracy: 1.0000 - val_loss: 0.0232 - val_accuracy: 1.0000\n",
            "Epoch 4/10\n",
            "9/9 [==============================] - 1s 97ms/step - loss: 0.0121 - accuracy: 1.0000 - val_loss: 0.0165 - val_accuracy: 1.0000\n",
            "Epoch 5/10\n",
            "9/9 [==============================] - 1s 88ms/step - loss: 0.0087 - accuracy: 1.0000 - val_loss: 0.0132 - val_accuracy: 1.0000\n",
            "Epoch 6/10\n",
            "9/9 [==============================] - 1s 87ms/step - loss: 0.0070 - accuracy: 1.0000 - val_loss: 0.0113 - val_accuracy: 1.0000\n",
            "Epoch 7/10\n",
            "9/9 [==============================] - 1s 90ms/step - loss: 0.0061 - accuracy: 1.0000 - val_loss: 0.0099 - val_accuracy: 1.0000\n",
            "Epoch 8/10\n",
            "9/9 [==============================] - 1s 89ms/step - loss: 0.0054 - accuracy: 1.0000 - val_loss: 0.0089 - val_accuracy: 1.0000\n",
            "Epoch 9/10\n",
            "9/9 [==============================] - 1s 88ms/step - loss: 0.0048 - accuracy: 1.0000 - val_loss: 0.0079 - val_accuracy: 1.0000\n",
            "Epoch 10/10\n",
            "9/9 [==============================] - 1s 95ms/step - loss: 0.0044 - accuracy: 1.0000 - val_loss: 0.0072 - val_accuracy: 1.0000\n"
          ]
        },
        {
          "output_type": "execute_result",
          "data": {
            "text/plain": [
              "<keras.callbacks.History at 0x7fabea6f5050>"
            ]
          },
          "metadata": {},
          "execution_count": 64
        }
      ],
      "source": [
        "model.compile(\n",
        "    optimizer = 'adam',\n",
        "    loss = tf.keras.losses.SparseCategoricalCrossentropy(from_logits = True),\n",
        "    metrics = ['accuracy']\n",
        ")\n",
        "\n",
        "model.fit(X_train_scaled, y_train, epochs = 10, validation_split = 0.1)"
      ]
    },
    {
      "cell_type": "code",
      "execution_count": null,
      "metadata": {
        "id": "-9jbZyJh6KNs",
        "colab": {
          "base_uri": "https://localhost:8080/"
        },
        "outputId": "fea536c8-7bc8-49af-b657-0a1ff77c317a"
      },
      "outputs": [
        {
          "output_type": "stream",
          "name": "stdout",
          "text": [
            "4/4 [==============================] - 1s 209ms/step - loss: 0.0039 - accuracy: 1.0000\n"
          ]
        },
        {
          "output_type": "execute_result",
          "data": {
            "text/plain": [
              "[0.0038531802129000425, 1.0]"
            ]
          },
          "metadata": {},
          "execution_count": 65
        }
      ],
      "source": [
        "model.evaluate(X_test_scaled, y_test)"
      ]
    },
    {
      "cell_type": "code",
      "execution_count": null,
      "metadata": {
        "id": "zQ--dY8ZTDlI"
      },
      "outputs": [],
      "source": [
        "yp = model.predict(X_test_scaled)"
      ]
    },
    {
      "cell_type": "code",
      "execution_count": null,
      "metadata": {
        "id": "2Dd_F7kdTJQZ",
        "colab": {
          "base_uri": "https://localhost:8080/"
        },
        "outputId": "9defbdbe-e75d-4ee7-c25d-b43b555acae9"
      },
      "outputs": [
        {
          "output_type": "execute_result",
          "data": {
            "text/plain": [
              "[1, 0, 0, 1, 0, 1, 1, 0, 1, 0]"
            ]
          },
          "metadata": {},
          "execution_count": 67
        }
      ],
      "source": [
        "y_pred = []\n",
        "for element in yp:\n",
        "  if element[0]>element[1]:\n",
        "    y_pred.append(0)\n",
        "  else:\n",
        "    y_pred.append(1)\n",
        "\n",
        "y_pred[:10]"
      ]
    },
    {
      "cell_type": "code",
      "execution_count": null,
      "metadata": {
        "id": "ZGljDxfSzY-t",
        "colab": {
          "base_uri": "https://localhost:8080/"
        },
        "outputId": "922f8357-f6ed-470b-d868-0cd64f3437f9"
      },
      "outputs": [
        {
          "output_type": "execute_result",
          "data": {
            "text/plain": [
              "array([1, 0, 0, 1, 0, 1, 1, 0, 1, 0])"
            ]
          },
          "metadata": {},
          "execution_count": 68
        }
      ],
      "source": [
        "y_test[:10]"
      ]
    },
    {
      "cell_type": "code",
      "source": [
        "import seaborn as sn\n",
        "cm = tf.math.confusion_matrix(labels=y_test,predictions=y_pred)\n",
        "\n",
        "plt.figure(figsize = (10,7))\n",
        "sn.heatmap(cm, annot=True, fmt='d')\n",
        "plt.xlabel('Predicted')\n",
        "plt.ylabel('Truth')"
      ],
      "metadata": {
        "colab": {
          "base_uri": "https://localhost:8080/",
          "height": 459
        },
        "id": "HqrkADOlP2t-",
        "outputId": "2ecee336-d202-4c8b-bb0b-67f3c82bb9d1"
      },
      "execution_count": null,
      "outputs": [
        {
          "output_type": "execute_result",
          "data": {
            "text/plain": [
              "Text(69.0, 0.5, 'Truth')"
            ]
          },
          "metadata": {},
          "execution_count": 71
        },
        {
          "output_type": "display_data",
          "data": {
            "text/plain": [
              "<Figure size 720x504 with 2 Axes>"
            ],
            "image/png": "[encoded data removed]"
          },
          "metadata": {
            "needs_background": "light"
          }
        }
      ]
    },
    {
      "cell_type": "code",
      "source": [
        "# model.save('/content/drive/MyDrive/Dataset/mrl_eye/model.h5')"
      ],
      "metadata": {
        "id": "TosXsYYWWqDL"
      },
      "execution_count": null,
      "outputs": []
    },
    {
      "cell_type": "code",
      "source": [
        "model = tf.keras.models.load_model('/content/drive/MyDrive/Dataset/mrl_eye/model.h5',custom_objects={'KerasLayer':hub.KerasLayer})"
      ],
      "metadata": {
        "id": "Ud8hmMsXvmgN"
      },
      "execution_count": null,
      "outputs": []
    },
    {
      "cell_type": "code",
      "source": [
        "test_image = cv2.imread('/content/drive/MyDrive/Dataset/mrl_eye/face.jpg')"
      ],
      "metadata": {
        "id": "okTX6_1SPlqG"
      },
      "execution_count": null,
      "outputs": []
    },
    {
      "cell_type": "code",
      "source": [
        "gray = cv2.cvtColor(img, cv2.COLOR_BGR2GRAY)\n",
        "# from google.colab.patches import cv2_imshow\n",
        "# cv2_imshow(gray)"
      ],
      "metadata": {
        "id": "ai8Xwm2cSinl"
      },
      "execution_count": null,
      "outputs": []
    },
    {
      "cell_type": "code",
      "source": [
        "# Download the test image and utils files\n",
        "!wget --no-check-certificate \\\n",
        "    https://raw.githubusercontent.com/computationalcore/introduction-to-opencv/master/assets/test.jpg \\\n",
        "    -O test.jpg\n",
        "!wget --no-check-certificate \\\n",
        "    https://raw.githubusercontent.com/computationalcore/introduction-to-opencv/master/assets/haarcascade_frontalface_default.xml \\\n",
        "    -O haarcascade_frontalface_default.xml\n",
        "!wget --no-check-certificate \\\n",
        "    https://raw.githubusercontent.com/computationalcore/introduction-to-opencv/master/assets/haarcascade_smile.xml \\\n",
        "    -O haarcascade_smile.xml\n",
        "!wget --no-check-certificate \\\n",
        "    https://raw.githubusercontent.com/computationalcore/introduction-to-opencv/master/assets/haarcascade_eye.xml \\\n",
        "    -O haarcascade_eye.xml\n",
        "!wget --no-check-certificate \\\n",
        "    https://raw.githubusercontent.com/computationalcore/introduction-to-opencv/master/utils/common.py \\\n",
        "    -O common.py"
      ],
      "metadata": {
        "colab": {
          "base_uri": "https://localhost:8080/"
        },
        "id": "FdeuShgH0H7x",
        "outputId": "ecf56fed-fe55-4226-c8c7-0a9d0a6840a6"
      },
      "execution_count": null,
      "outputs": [
        {
          "output_type": "stream",
          "name": "stdout",
          "text": [
            "--2022-03-17 16:57:57--  https://raw.githubusercontent.com/computationalcore/introduction-to-opencv/master/assets/test.jpg\n",
            "Resolving raw.githubusercontent.com (raw.githubusercontent.com)... 185.199.111.133, 185.199.110.133, 185.199.108.133, ...\n",
            "Connecting to raw.githubusercontent.com (raw.githubusercontent.com)|185.199.111.133|:443... connected.\n",
            "HTTP request sent, awaiting response... 200 OK\n",
            "Length: 240458 (235K) [image/jpeg]\n",
            "Saving to: ‘test.jpg’\n",
            "\n",
            "test.jpg            100%[===================>] 234.82K  --.-KB/s    in 0.02s   \n",
            "\n",
            "2022-03-17 16:57:57 (9.33 MB/s) - ‘test.jpg’ saved [240458/240458]\n",
            "\n",
            "--2022-03-17 16:57:57--  https://raw.githubusercontent.com/computationalcore/introduction-to-opencv/master/assets/haarcascade_frontalface_default.xml\n",
            "Resolving raw.githubusercontent.com (raw.githubusercontent.com)... 185.199.108.133, 185.199.109.133, 185.199.110.133, ...\n",
            "Connecting to raw.githubusercontent.com (raw.githubusercontent.com)|185.199.108.133|:443... connected.\n",
            "HTTP request sent, awaiting response... 200 OK\n",
            "Length: 930127 (908K) [text/plain]\n",
            "Saving to: ‘haarcascade_frontalface_default.xml’\n",
            "\n",
            "haarcascade_frontal 100%[===================>] 908.33K  --.-KB/s    in 0.05s   \n",
            "\n",
            "2022-03-17 16:57:58 (19.3 MB/s) - ‘haarcascade_frontalface_default.xml’ saved [930127/930127]\n",
            "\n",
            "--2022-03-17 16:57:58--  https://raw.githubusercontent.com/computationalcore/introduction-to-opencv/master/assets/haarcascade_smile.xml\n",
            "Resolving raw.githubusercontent.com (raw.githubusercontent.com)... 185.199.108.133, 185.199.109.133, 185.199.110.133, ...\n",
            "Connecting to raw.githubusercontent.com (raw.githubusercontent.com)|185.199.108.133|:443... connected.\n",
            "HTTP request sent, awaiting response... 200 OK\n",
            "Length: 188506 (184K) [text/plain]\n",
            "Saving to: ‘haarcascade_smile.xml’\n",
            "\n",
            "haarcascade_smile.x 100%[===================>] 184.09K  --.-KB/s    in 0.02s   \n",
            "\n",
            "2022-03-17 16:57:58 (7.74 MB/s) - ‘haarcascade_smile.xml’ saved [188506/188506]\n",
            "\n",
            "--2022-03-17 16:57:58--  https://raw.githubusercontent.com/computationalcore/introduction-to-opencv/master/assets/haarcascade_eye.xml\n",
            "Resolving raw.githubusercontent.com (raw.githubusercontent.com)... 185.199.111.133, 185.199.108.133, 185.199.110.133, ...\n",
            "Connecting to raw.githubusercontent.com (raw.githubusercontent.com)|185.199.111.133|:443... connected.\n",
            "HTTP request sent, awaiting response... 200 OK\n",
            "Length: 341406 (333K) [text/plain]\n",
            "Saving to: ‘haarcascade_eye.xml’\n",
            "\n",
            "haarcascade_eye.xml 100%[===================>] 333.40K  --.-KB/s    in 0.03s   \n",
            "\n",
            "2022-03-17 16:57:58 (10.3 MB/s) - ‘haarcascade_eye.xml’ saved [341406/341406]\n",
            "\n",
            "--2022-03-17 16:57:59--  https://raw.githubusercontent.com/computationalcore/introduction-to-opencv/master/utils/common.py\n",
            "Resolving raw.githubusercontent.com (raw.githubusercontent.com)... 185.199.111.133, 185.199.108.133, 185.199.109.133, ...\n",
            "Connecting to raw.githubusercontent.com (raw.githubusercontent.com)|185.199.111.133|:443... connected.\n",
            "HTTP request sent, awaiting response... 200 OK\n",
            "Length: 6572 (6.4K) [text/plain]\n",
            "Saving to: ‘common.py’\n",
            "\n",
            "common.py           100%[===================>]   6.42K  --.-KB/s    in 0s      \n",
            "\n",
            "2022-03-17 16:57:59 (26.5 MB/s) - ‘common.py’ saved [6572/6572]\n",
            "\n"
          ]
        }
      ]
    },
    {
      "cell_type": "code",
      "source": [
        "eye_cascade = cv2.CascadeClassifier('haarcascade_eye.xml')\n",
        "eye = eye_cascade.detectMultiScale(gray, 1.3, 5)\n",
        "for (x,y,w,h) in eye:\n",
        "     cv2.rectangle(test_image,(x,y),(x+w,y+h),(255,0,0),2)\n",
        "plt.imshow(cv2.cvtColor(test_image, cv2.COLOR_BGR2RGB))"
      ],
      "metadata": {
        "colab": {
          "base_uri": "https://localhost:8080/",
          "height": 287
        },
        "id": "HokQ3BzpS1no",
        "outputId": "319fe212-e46a-4465-9d0c-030746f494cb"
      },
      "execution_count": null,
      "outputs": [
        {
          "output_type": "execute_result",
          "data": {
            "text/plain": [
              "<matplotlib.image.AxesImage at 0x7f6cba064510>"
            ]
          },
          "metadata": {},
          "execution_count": 18
        },
        {
          "output_type": "display_data",
          "data": {
            "text/plain": [
              "<Figure size 432x288 with 1 Axes>"
            ],
            "image/png": "[encoded data removed]"
          },
          "metadata": {
            "needs_background": "light"
          }
        }
      ]
    },
    {
      "cell_type": "code",
      "source": [
        ""
      ],
      "metadata": {
        "id": "EBTTT_jETFOk"
      },
      "execution_count": null,
      "outputs": []
    }
  ],
  "metadata": {
    "accelerator": "GPU",
    "colab": {
      "name": "sleep_detect.ipynb",
      "provenance": [],
      "collapsed_sections": []
    },
    "kernelspec": {
      "display_name": "Python 3",
      "name": "python3"
    },
    "language_info": {
      "name": "python"
    }
  },
  "nbformat": 4,
  "nbformat_minor": 0
}